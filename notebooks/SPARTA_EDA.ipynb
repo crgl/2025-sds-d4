{
 "cells": [
  {
   "cell_type": "markdown",
   "id": "31ee0dd6",
   "metadata": {},
   "source": [
    "# SPARTA\n",
    "\n",
    "We have SARS-CoV-2 spike-binding measurements available on 10,000 samples from 500 participants.\n",
    "We want to:\n",
    "- Look at what we have\n",
    "- Pick the top 30 or so and the bottom 30 or so participants, by \"antibody response strength\"\n",
    "- Clean up and deidentify metadata for those participants\n",
    "- Send out for additional testing\n",
    "\n",
    "In addition to those measurements, we know that participants have different demographics, SARS-CoV-2 infection and vaccination timing, vaccine types, and sampling frequency (we tried to get them monthly, but sometimes that's just how it goes)"
   ]
  },
  {
   "cell_type": "markdown",
   "id": "16d7bf2e",
   "metadata": {},
   "source": [
    "## Imports"
   ]
  },
  {
   "cell_type": "code",
   "execution_count": null,
   "id": "c753c6b0",
   "metadata": {},
   "outputs": [],
   "source": [
    "import pandas as pd # Excel+, tables and more\n",
    "import numpy as np # Maths\n",
    "import matplotlib.pyplot as plt # Setting up figures, axis labels, etc\n",
    "import seaborn as sns # Scatterplots and stripplots and histograms, oh my\n",
    "from scipy import stats # T tests, mann whitney u, ordinary least squares linear regression\n",
    "import sys # for difficulties installing packages\n",
    "!{sys.executable} -m pip install statsmodels\n",
    "import statsmodels.api as sm # robust lineear regression\n",
    "import statsmodels.formula.api as smf # mixed effect models\n",
    "import sklearn # multilayer perceptrons, support vector machines, random forests\n"
   ]
  },
  {
   "cell_type": "markdown",
   "id": "a66f3b38",
   "metadata": {},
   "source": [
    "## Python Reference"
   ]
  },
  {
   "cell_type": "code",
   "execution_count": null,
   "id": "5665280a",
   "metadata": {},
   "outputs": [],
   "source": [
    "# Comments\n",
    "# Any line starting with a hash is a comment\n",
    "# In addition to markdown cells (or in a script), you can annotate your code in-line with comments to describe what it does\n",
    "# In order to change a line to and from a comment, you can use the shortcut Ctrl+/ (or Cmd+/ on Mac)\n",
    "\n",
    "# Uncomment the bottom line (click on the line to place your cursor in and hit Ctrl+/)\n",
    "# and run the cell (press the play button in the upper left corner, or Shift+Enter with your cursor in the cell) to generate a random plot\n",
    "\n",
    "# plt.plot(np.random.randn(100))"
   ]
  },
  {
   "cell_type": "code",
   "execution_count": null,
   "id": "b98a5702",
   "metadata": {},
   "outputs": [],
   "source": [
    "# Seaborn maintains a few datasets useful for example plots. \n",
    "# You can look at the first 5 rows of your dataset with the head() function.\n",
    "# Run this cell to see what's in the penguins dataset. (shift+enter to run)\n",
    "penguin_data = sns.load_dataset('penguins')\n",
    "penguin_data.head()"
   ]
  },
  {
   "cell_type": "code",
   "execution_count": null,
   "id": "de40abb7",
   "metadata": {},
   "outputs": [],
   "source": [
    "# You can look at a couple default summary statistics of the dataset with the describe() function.\n",
    "penguin_data.describe()"
   ]
  },
  {
   "cell_type": "markdown",
   "id": "b82380a1",
   "metadata": {},
   "source": [
    "Notice that it dropped all the non-numeric columns, and gives you these count statistics. You can also use `describe()` for non-numeric data, but it is not quite as useful.\n",
    "\n",
    "Still, it does take us to our next operation: grabbing just one column from the table. In pandas, usually a table is called a \"DataFrame\" and a row or column is called a \"Series\". If we want to look at just one column, we use square braces [] and single or double quotes containing the column name. To look at just species information, we would call `penguin_data['species']` instead of `penguin_data`. Let's look at the description for just that Series"
   ]
  },
  {
   "cell_type": "code",
   "execution_count": null,
   "id": "ed828943",
   "metadata": {},
   "outputs": [],
   "source": [
    "penguin_data['species'].describe()"
   ]
  },
  {
   "cell_type": "markdown",
   "id": "dfe732e2",
   "metadata": {},
   "source": [
    "Not bad, but not great. You know that there are 3 values, but not what they are. This could be good if you had thousands of different species, but with just 3 we might want more details about each one. There's a function on Series called `value_counts()` which works well here."
   ]
  },
  {
   "cell_type": "code",
   "execution_count": null,
   "id": "1e514a1b",
   "metadata": {},
   "outputs": [],
   "source": [
    "# Calling `display()` lets you show the output of multiple rows in a single notebook cell.\n",
    "display(penguin_data['species'].value_counts())\n",
    "display(penguin_data['island'].value_counts())"
   ]
  },
  {
   "cell_type": "markdown",
   "id": "c0a57228",
   "metadata": {},
   "source": [
    "Now we have some counts and some basic statistics. We can do a little better and break these penguin features down by both species and island with the `groupby` command."
   ]
  },
  {
   "cell_type": "code",
   "execution_count": null,
   "id": "4a39b1e6",
   "metadata": {},
   "outputs": [],
   "source": [
    "display(penguin_data.groupby(['species', 'island']).size())"
   ]
  },
  {
   "cell_type": "markdown",
   "id": "a37e86d8",
   "metadata": {},
   "source": [
    "Looks like only the Adelie are travelers. Let's forget about islands, then, and look at flippers and beaks"
   ]
  },
  {
   "cell_type": "code",
   "execution_count": null,
   "id": "040f2fb3",
   "metadata": {},
   "outputs": [],
   "source": [
    "display(penguin_data.drop(columns=['island', 'sex']).groupby(['species']).mean()) # You can't take tghe mean of a string, so we drop the non-numeric columns. Equivalent to:\n",
    "display(penguin_data.loc[:, ['species', 'bill_length_mm', 'bill_depth_mm', 'flipper_length_mm', 'body_mass_g']].groupby(['species']).mean())"
   ]
  },
  {
   "cell_type": "markdown",
   "id": "d95f1af5",
   "metadata": {},
   "source": [
    "Couple of new operations there:\n",
    "- `data.drop(columns=['col1', 'col2'])` gives you a copy of your dataframe (table) without col1 and col2\n",
    "- `data.loc[:, 'col1']` is the same as `data['col1']`, it just grabs that column. Here `:` stands for \"every row\", so it extends to:\n",
    "- `data.loc[:, ['col1', 'col2']]` to get the two columns you want. `loc[]` uses column and row names. If I wanted the first two columns, I could use `iloc`\n",
    "- `data.iloc[:5, :2]` is the first two columns for the first 5 rows\n",
    "- `data.iloc[-5:, -2:]` is the last two columns for the last 5 rows\n",
    "\n",
    "`iloc` uses numbers and does not know about names at all. See below for an example. "
   ]
  },
  {
   "cell_type": "code",
   "execution_count": null,
   "id": "9950e9a0",
   "metadata": {},
   "outputs": [],
   "source": [
    "penguin_data.iloc[:5, :2]"
   ]
  },
  {
   "cell_type": "markdown",
   "id": "f6895b61",
   "metadata": {},
   "source": [
    "You can also filter quite easily any which way with indexes."
   ]
  },
  {
   "cell_type": "code",
   "execution_count": null,
   "id": "2d139eae",
   "metadata": {},
   "outputs": [],
   "source": [
    "display(penguin_data[penguin_data['species'] == 'Chinstrap'].head()) # chinstrap penguins\n",
    "species_filter = penguin_data['species'] == 'Adelie'\n",
    "sex_filter = penguin_data['sex'] == 'Male'\n",
    "display(penguin_data[species_filter & sex_filter].head()) # male Adelie penguins\n",
    "size_filter = penguin_data['body_mass_g'] < 3800.\n",
    "display(penguin_data[species_filter & sex_filter & size_filter].head()) # tiny male Adelie penguins"
   ]
  },
  {
   "cell_type": "markdown",
   "id": "206dc0ab",
   "metadata": {},
   "source": [
    "`==` checks equality. You can compose filters with `&` when you want both to be true, and `|` when only one needs to be true. You can compare Series to individual values, or to each other"
   ]
  },
  {
   "cell_type": "code",
   "execution_count": null,
   "id": "4c61eb93",
   "metadata": {},
   "outputs": [],
   "source": [
    "display(penguin_data[penguin_data['bill_depth_mm'] * 2 < penguin_data['bill_length_mm']].head()) # bill depth is less than half the bill length\n",
    "penguin_data[penguin_data['bill_depth_mm'] * 2 > penguin_data['bill_length_mm']].head() # bill depth is greater than half the bill length"
   ]
  },
  {
   "cell_type": "markdown",
   "id": "7a2c9ea8",
   "metadata": {},
   "source": [
    "Finally, plots! `sns.relplot` (scatter and line) and `sns.catplot` (strip and box) will help you out here"
   ]
  },
  {
   "cell_type": "code",
   "execution_count": null,
   "id": "b0d188af",
   "metadata": {},
   "outputs": [],
   "source": [
    "sns.relplot(data=penguin_data, x='bill_length_mm', y='bill_depth_mm', hue='species')\n",
    "plt.show()"
   ]
  },
  {
   "cell_type": "code",
   "execution_count": null,
   "id": "3adb1401",
   "metadata": {},
   "outputs": [],
   "source": [
    "sns.catplot(data=penguin_data, x='species', y='body_mass_g', hue='island', dodge=True, kind='strip')\n",
    "plt.show()"
   ]
  },
  {
   "cell_type": "markdown",
   "id": "bae070bb",
   "metadata": {},
   "source": [
    "## Reading in the data and taking a look\n",
    "\n",
    "We have participant metadata and sample testing results in the `data` directory. Poke around! Make some plots!"
   ]
  },
  {
   "cell_type": "code",
   "execution_count": null,
   "id": "473c5e0e",
   "metadata": {},
   "outputs": [],
   "source": [
    "people_data = pd.read_csv('../data/Participant Metadata.csv').set_index('Participant ID') # Reads in a csv from the data directory\n",
    "display(people_data.head())\n",
    "# sample_data =  # Uncomment this line and add the code to load the participant data\n",
    "# display(sample_data.head()) \n",
    "# data = sample_data.join(people_data, on='Participant ID') # Adds the participant data to the sample data. Works as is, uncomment with Ctrl+/ to run\n",
    "# display(data.head()) # Displays the first 5 rows of the participant data"
   ]
  },
  {
   "cell_type": "code",
   "execution_count": null,
   "id": "b53e00cf",
   "metadata": {},
   "outputs": [],
   "source": []
  },
  {
   "cell_type": "code",
   "execution_count": null,
   "id": "d0fa7ae3",
   "metadata": {},
   "outputs": [],
   "source": []
  },
  {
   "cell_type": "code",
   "execution_count": null,
   "id": "f826a15a",
   "metadata": {},
   "outputs": [],
   "source": []
  },
  {
   "cell_type": "markdown",
   "id": "28f834a9",
   "metadata": {},
   "source": [
    "## Picking overperformers and underperformers\n",
    "\n",
    "Now that you've taken a look, it's onto the next task\n",
    "\n",
    "### High and low performers\n",
    "We want to run additional testing on a subset of participants (10 or 20%). How would you pick a subset of participants to run?\n",
    "- You can answer this with a markdown cell at first if you're not ready to code it.\n",
    "- How would you do it if you were totally confident in Python?\n",
    "- What's one quick way that you would be comfortable doing now?"
   ]
  },
  {
   "cell_type": "code",
   "execution_count": null,
   "id": "a2b5900c",
   "metadata": {},
   "outputs": [],
   "source": []
  },
  {
   "cell_type": "markdown",
   "id": "070fce36",
   "metadata": {},
   "source": [
    "## Exporting deidentified metadata\n",
    "\n",
    "Once we pick participants and samples, we want to provide the associated metadata to whoever is running the additional testing.\n",
    "- What information do they need?\n",
    "- What information can't they have? (emails, for sure)\n",
    "- What kinds of testing would you want to do? You'll get back WA.1 SARS-CoV-2 neutralization, for sure, but is there anything else that would help?\n",
    "\n",
    "Once you have an idea for that, make a subset of the datasheet and export it. To make a csv, you take a dataframe `data` and call `data.to_csv('output_filename.csv')`"
   ]
  },
  {
   "cell_type": "code",
   "execution_count": null,
   "id": "bd4dc0b7",
   "metadata": {},
   "outputs": [],
   "source": []
  }
 ],
 "metadata": {
  "kernelspec": {
   "display_name": "Python 3",
   "language": "python",
   "name": "python3"
  },
  "language_info": {
   "codemirror_mode": {
    "name": "ipython",
    "version": 3
   },
   "file_extension": ".py",
   "mimetype": "text/x-python",
   "name": "python",
   "nbconvert_exporter": "python",
   "pygments_lexer": "ipython3",
   "version": "3.12.1"
  }
 },
 "nbformat": 4,
 "nbformat_minor": 5
}
