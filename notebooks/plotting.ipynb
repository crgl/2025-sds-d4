{
 "cells": [
  {
   "cell_type": "markdown",
   "metadata": {},
   "source": [
    "# Plotting in Python\n",
    "\n",
    "An introduction to the stars of the show: `matplotlib`, `pandas`, and `seaborn`"
   ]
  },
  {
   "cell_type": "markdown",
   "metadata": {},
   "source": [
    "## Intro to pyplot\n",
    "\n",
    "`matplotlib.pyplot` is a collection of functions that make matplotlib work like MATLAB, if you're wondering about etymology. For our purposes, it's Python's best basic plotting interface. Each `pyplot` function makes some change to a figure: e.g., creates a figure, creates a plotting area in a figure, plots some lines in a plotting area, decorates the plot with labels, etc.\n",
    "\n",
    "In `matplotlib.pyplot` various states are preserved across function calls, so that it keeps track of things like the current figure and plotting area, and the plotting functions are directed to the current axes (axes is matplotlib-speak for a particular subplot, or set of axes)\n",
    "\n",
    "Generating visualizations with pyplot can be as quick as a single line with `plt.plot`:"
   ]
  },
  {
   "cell_type": "code",
   "execution_count": null,
   "metadata": {},
   "outputs": [],
   "source": [
    "import matplotlib.pyplot as plt\n",
    "x = [1, 2, 3, 4, 5]\n",
    "y = [2, 4, 6, 8, 10]\n",
    "plt.plot(x, y)"
   ]
  },
  {
   "cell_type": "markdown",
   "metadata": {},
   "source": [
    "But you can customize things quite a bit. Feel free to change any of the parameters in here and re-run the cell to see what happens"
   ]
  },
  {
   "cell_type": "code",
   "execution_count": null,
   "metadata": {},
   "outputs": [],
   "source": [
    "import matplotlib.pyplot as plt\n",
    "import numpy as np\n",
    "x = np.array([1, 2, 3, 4, 5])\n",
    "y = x**2\n",
    "fig, ax = plt.subplots(layout='constrained')\n",
    "plt.sca(ax)\n",
    "plt.plot(x, y,\n",
    "         color='red', linestyle=':', linewidth=2,\n",
    "         marker='o', markersize=10, markerfacecolor='black',\n",
    "         alpha=0.9)\n",
    "plt.ylabel('Dependent Variable')\n",
    "plt.xlabel('Independent Variable', fontsize=14)\n",
    "plt.title('Simple Line Plot')\n",
    "xticks = x\n",
    "xticklabels = xticks\n",
    "plt.xticks(xticks, xticklabels,\n",
    "           fontsize=12, fontweight='bold', rotation=90)\n",
    "ax.text(1, 25, 'Text Annotation', fontsize=12,\n",
    "        color='blue', ha='left', va='top')\n",
    "plt.show()"
   ]
  },
  {
   "cell_type": "markdown",
   "metadata": {},
   "source": [
    "However, you may have heard me talk about `seaborn` before. Seaborn is based on top of `matplotlib` but has some additional functionality and much prettier defaults. You will generally find yourself descending into matplotlib directly to change things like the size of your figures and the axis labels, but the base plotting will substitute `sns.lineplot` for `plt.plot` (and `sns.scatterplot` may become your closest friend and companion)"
   ]
  },
  {
   "cell_type": "code",
   "execution_count": null,
   "metadata": {},
   "outputs": [],
   "source": [
    "import matplotlib.pyplot as plt\n",
    "import numpy as np\n",
    "import seaborn as sns\n",
    "\n",
    "x = np.array([1, 2, 3, 4, 5])\n",
    "y = x**2\n",
    "fig, ax = plt.subplots(layout='constrained')\n",
    "plt.sca(ax)\n",
    "sns.lineplot(x=x, y=y,\n",
    "         color='red', linestyle=':', linewidth=2,\n",
    "         marker='o', markersize=10, markerfacecolor='black',\n",
    "         alpha=0.9)\n",
    "plt.ylabel('Dependent Variable')\n",
    "plt.xlabel('Independent Variable', fontsize=14)\n",
    "plt.title('Simple Line Plot')\n",
    "xticks = x\n",
    "xticklabels = xticks\n",
    "plt.xticks(xticks, xticklabels,\n",
    "           fontsize=12, fontweight='bold', rotation=90)\n",
    "ax.text(1, 25, 'Text Annotation', fontsize=12,\n",
    "        color='blue', ha='left', va='top')\n",
    "plt.show()"
   ]
  },
  {
   "cell_type": "markdown",
   "metadata": {},
   "source": [
    "One nice feature of `seaborn` is easy access to a number of color palettes. You may or may not recognize the PARIS cinematic universe, but one feature is definitely a slight improvement to the `matplotlib` default. I generally prefer grabbing individual colors from these palettes to color specifications like `'red'` or `'blue'`, although both will work."
   ]
  },
  {
   "cell_type": "code",
   "execution_count": null,
   "metadata": {},
   "outputs": [],
   "source": [
    "display(sns.color_palette())\n",
    "display(sns.color_palette('dark'))\n",
    "display(sns.color_palette('muted'))\n",
    "display(sns.color_palette('mako'))\n",
    "display(sns.color_palette('rocket'))\n",
    "display(sns.color_palette('husl', n_colors=8))"
   ]
  },
  {
   "cell_type": "markdown",
   "metadata": {},
   "source": [
    "## Pandas: A brief aside\n",
    "\n",
    "You can spend quite a lot of time just plotting, but you'll likely spend more organizing and transforming your data. To keep things tight, you'll want to keep everything in a `pandas.DataFrame`. The basic concept is very familiar: a dataframe is just a fancy word for a table:\n"
   ]
  },
  {
   "cell_type": "code",
   "execution_count": null,
   "metadata": {},
   "outputs": [],
   "source": [
    "import pandas as pd\n",
    "df = pd.DataFrame({'Participant ID': [f'03374-{str(i).zfill(3)}' for i in range(1, 6)],})\n",
    "df['Sample ID'] = [''.join(np.random.choice(np.arange(1,10).astype(str), 5)) for _ in range(5)]\n",
    "df['Spike-Binding Antibodies'] = np.random.randint(5, 40, 5)\n",
    "display(df)"
   ]
  },
  {
   "cell_type": "markdown",
   "metadata": {},
   "source": [
    "It can also read in data directly from Excel files and csvs"
   ]
  },
  {
   "cell_type": "code",
   "execution_count": null,
   "metadata": {},
   "outputs": [],
   "source": [
    "pd.read_csv('../data/atlantis.csv').head()"
   ]
  },
  {
   "cell_type": "markdown",
   "metadata": {},
   "source": [
    "However, the way you interact with the tables is really a whole new language. The long and short of it is that Excel has a very convenient interface for entering new data (see: our entire Sharepoint), while `pandas` almost exclusively reads and manipulates existing datasets.\n",
    "\n",
    "What we want from `pandas` today, though, is really just a way to refer to our data by column names. See the `sns.scatterplot` syntax below"
   ]
  },
  {
   "cell_type": "code",
   "execution_count": null,
   "metadata": {},
   "outputs": [],
   "source": [
    "\n",
    "data = {'a': np.arange(50),\n",
    "        'color': np.random.randint(0, 50, 50),\n",
    "        'diameter': np.random.randn(50)}\n",
    "data['b'] = data['a'] + 10 * np.random.randn(50)\n",
    "data['diameter'] = np.abs(data['diameter']) * 100\n",
    "df = pd.DataFrame(data)\n",
    "\n",
    "sns.scatterplot(data=df, x='a', y='b', hue='color', size='diameter')\n",
    "plt.xlabel('Entry a')\n",
    "plt.ylabel('Entry b')\n",
    "plt.legend(ncols=2)\n",
    "plt.show()"
   ]
  },
  {
   "cell_type": "markdown",
   "metadata": {},
   "source": [
    "There are a lot more plots to be made. Check out a surfeit of examples here:\n",
    "https://seaborn.pydata.org/examples/index.html\n",
    "\n",
    "I lifted a couple fun ones you can run below"
   ]
  },
  {
   "cell_type": "code",
   "execution_count": null,
   "metadata": {},
   "outputs": [],
   "source": [
    "import seaborn as sns\n",
    "\n",
    "with sns.axes_style(\"dark\"):\n",
    "    flights = sns.load_dataset(\"flights\")\n",
    "\n",
    "    # Plot each year's time series in its own facet\n",
    "    g = sns.relplot(\n",
    "        data=flights,\n",
    "        x=\"month\", y=\"passengers\", col=\"year\", hue=\"year\",\n",
    "        kind=\"line\", palette=\"crest\", linewidth=4, zorder=5,\n",
    "        col_wrap=3, height=2, aspect=1.5, legend=False,\n",
    "    )\n",
    "\n",
    "    # Iterate over each subplot to customize further\n",
    "    for year, ax in g.axes_dict.items():\n",
    "\n",
    "        # Add the title as an annotation within the plot\n",
    "        ax.text(.8, .85, year, transform=ax.transAxes, fontweight=\"bold\")\n",
    "\n",
    "        # Plot every year's time series in the background\n",
    "        sns.lineplot(\n",
    "            data=flights, x=\"month\", y=\"passengers\", units=\"year\",\n",
    "            estimator=None, color=\".7\", linewidth=1, ax=ax,\n",
    "        )\n",
    "\n",
    "    # Reduce the frequency of the x axis ticks\n",
    "    ax.set_xticks(ax.get_xticks()[::2])\n",
    "\n",
    "    # Tweak the supporting aspects of the plot\n",
    "    g.set_titles(\"\")\n",
    "    g.set_axis_labels(\"\", \"Passengers\")\n",
    "    g.tight_layout()"
   ]
  },
  {
   "cell_type": "code",
   "execution_count": null,
   "metadata": {},
   "outputs": [],
   "source": [
    "\n",
    "with sns.axes_style(\"ticks\"):\n",
    "    rs = np.random.RandomState(11)\n",
    "    x = rs.gamma(2, size=1000)\n",
    "    y = -.5 * x + rs.normal(size=1000)\n",
    "\n",
    "    sns.jointplot(x=x, y=y, kind=\"hex\", color=\"#4CB391\")"
   ]
  },
  {
   "cell_type": "code",
   "execution_count": null,
   "metadata": {},
   "outputs": [],
   "source": []
  }
 ],
 "metadata": {
  "kernelspec": {
   "display_name": "sds-2025",
   "language": "python",
   "name": "python3"
  },
  "language_info": {
   "codemirror_mode": {
    "name": "ipython",
    "version": 3
   },
   "file_extension": ".py",
   "mimetype": "text/x-python",
   "name": "python",
   "nbconvert_exporter": "python",
   "pygments_lexer": "ipython3",
   "version": "3.12.11"
  },
  "orig_nbformat": 4
 },
 "nbformat": 4,
 "nbformat_minor": 2
}
